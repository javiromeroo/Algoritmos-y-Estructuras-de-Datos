{
  "cells": [
    {
      "cell_type": "markdown",
      "metadata": {
        "id": "view-in-github",
        "colab_type": "text"
      },
      "source": [
        "<a href=\"https://colab.research.google.com/github/javiromeroo/Algoritmos-y-Estructuras-de-Datos/blob/main/ejercicio5.ipynb\" target=\"_parent\"><img src=\"https://colab.research.google.com/assets/colab-badge.svg\" alt=\"Open In Colab\"/></a>"
      ]
    },
    {
      "cell_type": "markdown",
      "source": [
        "# Ejercicio 5 alumna Javiera Romero Orrego 21166885-7"
      ],
      "metadata": {
        "id": "Wudbn1iGew5B"
      }
    },
    {
      "cell_type": "markdown",
      "metadata": {
        "id": "e0bTd7mDeiY8"
      },
      "source": [
        "### Ejercicio 4.2\n",
        "\n",
        "Cuando los datos que se encuentran en un arreglo son de tipo real (float) se puede implementar una búsqueda basada en interpolación que, en promedio, tiene mejor comportamiento que la búsqueda binaria. La idea es que en un arreglo de números reales ordenados se revise cuál es el valor del menor y del mayor y suponiendo que los datos están uniformemente distribuidos en el arreglo, se calcula por interpolación el lugar más probable donde se pueda encontrar el elemento buscado. Para simplificar, vamos a suponer que todos los elementos del arreglo son distintos.\n",
        "\n",
        "Para un segmento de un arreglo desde $a[i]$ hasta $a[j]$, queremos escribir la fórmula en términos de $a[i]$, $a[j]$, $i$, $j$ y $x$ (número buscado) que nos da $k$, que es el lugar donde queremos examinar a continuación, usando la proporción\n",
        "\n",
        "$$\n",
        "\\frac{x-a[i]}{a[j]-a[i]}=\\frac{k-i}{j-i}\n",
        "$$\n",
        "\n",
        "de donde podemos despejar\n",
        "\n",
        "$$\n",
        "k = i+\\frac{x-a[i]}{a[j]-a[i]}(j-i)\n",
        "$$\n",
        "\n",
        "Como $k$ debe ser entero, la fórmula de la derecha debería redondearse, por ejemplo al entero inmediatamente inferior, para lo cual se puede usar la función `int` de python.\n",
        "\n",
        "_Nota_: A diferencia de la búsqueda binaria, en que está garantizado que $k$ está entre $i$ y $j$, esta fórmula podría dar valores fuera de ese rango. Esa sería una condición adicional que habría que chequear, y si se da ese caso, la búsqueda sería infructuosa.\n",
        "\n",
        "Con estas consideraciones, modifique la versión que viene a continuación para implementar la búsqueda por interpolación, y luego ejecute los casos de prueba. Observe que para evitar una división por cero en el caso $i=j$, es preferible que el ciclo `while` itere solo mientras $i<j$, y a la salida revisar si se detuvo porque $i$ era igual a $j$."
      ]
    },
    {
      "cell_type": "code",
      "execution_count": null,
      "metadata": {
        "id": "eyCRlkTseiY9"
      },
      "outputs": [],
      "source": [
        "# Búsqueda por interpolación\n",
        "# busca x en el arreglo a, retorna subíndice o -1 si no está\n",
        "def binterp(x,a):\n",
        "  # El código que viene a continuación es el de la búsqueda binaria.\n",
        "  # Usted debe modificarlo para que implemente la búsqueda por interpolación\n",
        "    n=len(a)\n",
        "    i=0\n",
        "    j=n-1\n",
        "    while i<j:\n",
        "        k=int(i+((x-a[i])/(a[j]-a[i]))*(j-i))\n",
        "        if k < i:\n",
        "          return -1\n",
        "        elif k > j:\n",
        "          return -1\n",
        "        elif x==a[k]:\n",
        "            return k\n",
        "        elif x<a[k]:\n",
        "            j=k-1\n",
        "        else:\n",
        "            i=k+1\n",
        "    if i==j:\n",
        "      return k\n",
        "    else:\n",
        "      return -1"
      ]
    },
    {
      "cell_type": "code",
      "execution_count": null,
      "metadata": {
        "id": "16y-ZF4FeiY-",
        "colab": {
          "base_uri": "https://localhost:8080/"
        },
        "outputId": "5fc923f2-a41d-43ae-afb6-4ea5de0a1a9f"
      },
      "outputs": [
        {
          "output_type": "stream",
          "name": "stdout",
          "text": [
            "OK\n",
            "OK\n",
            "OK\n"
          ]
        }
      ],
      "source": [
        "# Casos de prueba\n",
        "a = [2.3, 5.4, 7.1, 15.3, 27.4, 28.3, 30.0, 37.8, 45.6]\n",
        "assert binterp(28.3,a)== 5\n",
        "print(\"OK\")\n",
        "assert binterp(2.3,a) == 0\n",
        "print(\"OK\")\n",
        "assert binterp(16,a) == -1\n",
        "print(\"OK\")"
      ]
    }
  ],
  "metadata": {
    "kernelspec": {
      "display_name": "Python 3",
      "language": "python",
      "name": "python3"
    },
    "language_info": {
      "codemirror_mode": {
        "name": "ipython",
        "version": 3
      },
      "file_extension": ".py",
      "mimetype": "text/x-python",
      "name": "python",
      "nbconvert_exporter": "python",
      "pygments_lexer": "ipython3",
      "version": "3.6.9"
    },
    "colab": {
      "provenance": [],
      "include_colab_link": true
    }
  },
  "nbformat": 4,
  "nbformat_minor": 0
}