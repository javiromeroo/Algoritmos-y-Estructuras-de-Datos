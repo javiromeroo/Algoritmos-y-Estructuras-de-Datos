{
  "cells": [
    {
      "cell_type": "markdown",
      "metadata": {
        "id": "view-in-github",
        "colab_type": "text"
      },
      "source": [
        "<a href=\"https://colab.research.google.com/github/javiromeroo/Algoritmos-y-Estructuras-de-Datos/blob/main/ejercicio8_algoritmos.ipynb\" target=\"_parent\"><img src=\"https://colab.research.google.com/assets/colab-badge.svg\" alt=\"Open In Colab\"/></a>"
      ]
    },
    {
      "cell_type": "markdown",
      "source": [
        "#alumna: Javiera Romero Orrego 21166885-7"
      ],
      "metadata": {
        "id": "E2Mf02zsbhq7"
      }
    },
    {
      "cell_type": "markdown",
      "metadata": {
        "id": "XIWaPhDIuwez"
      },
      "source": [
        "### Ejercicio 6.1 (Chequear si un árbol es AVL en tiempo lineal)\n",
        "\n",
        "En este ejercicio usted debe modificar la implementación dada para asegurar que cada nodo del árbol se visite solo una vez, asegurando de esta manera que el costo de determinar si un árbol es AVL sea $\\Theta(n)$.\n",
        "\n",
        "Para esto, usted debe fusionar las funciones ``altura`` y ``es_AVL``en una sola función ``altura_AVL``, que retorne una tupla $(h,a)$, donde $h$ es la altura y $a$ es un booleano que dice si el árbol es AVL. De esta manera, al invocar la función se tiene de una sola vez toda la información necesaria."
      ]
    },
    {
      "cell_type": "code",
      "execution_count": null,
      "metadata": {
        "collapsed": true,
        "id": "-Tli1-wPuwe2"
      },
      "outputs": [],
      "source": [
        "class Nodoi:\n",
        "    def __init__(self, izq, info, der):\n",
        "        self.izq=izq\n",
        "        self.info=info\n",
        "        self.der=der\n",
        "\n",
        "    def altura_AVL(self):\n",
        "      #checkear las recurrencias para ambos lados\n",
        "      hi, booli= self.izq.altura_AVL()\n",
        "      hd, boold= self.der.altura_AVL()\n",
        "      #la altura es la altura max de los sub arboles mas 1\n",
        "      h= max(hi, hd) +1\n",
        "      #si alguno de nuestros sub arboles no es avl el arbol tampoco es avl\n",
        "      if booli == False or boold == False:\n",
        "        return h, False\n",
        "      #si la dif absoluta entre las alturas es menor o igual a 1\n",
        "      if abs(hi-hd) <= 1 :\n",
        "        return h, True\n",
        "      else:\n",
        "        return h, False\n",
        "\n",
        "    def __str__(self):\n",
        "        return \"(\"+self.izq.__str__()+str(self.info)+self.der.__str__()+\")\"\n",
        "\n",
        "class Nodoe:\n",
        "    def __init__(self):\n",
        "        pass\n",
        "\n",
        "    def altura_AVL(self):\n",
        "      return 0, True\n",
        "\n",
        "    def __str__(self):\n",
        "        return\"☐\"\n",
        "\n",
        "class Arbol:\n",
        "    def __init__(self,raiz=Nodoe()):\n",
        "        self.raiz=raiz\n",
        "\n",
        "    def es_AVL(self):\n",
        "        return self.raiz.altura_AVL()\n",
        "\n",
        "    def __str__(self):\n",
        "        return self.raiz.__str__()"
      ]
    },
    {
      "cell_type": "markdown",
      "metadata": {
        "id": "pQubVEnAuwe3"
      },
      "source": [
        "A continuación, pruébela con los dos árboles utilizados anteriormente:"
      ]
    },
    {
      "cell_type": "code",
      "execution_count": null,
      "metadata": {
        "collapsed": true,
        "id": "O1JAIHXOuwe3",
        "outputId": "66d036c9-0c0c-44c6-a5fd-d0b1f5eae5df",
        "colab": {
          "base_uri": "https://localhost:8080/"
        }
      },
      "outputs": [
        {
          "output_type": "stream",
          "name": "stdout",
          "text": [
            "((☐1☐)2(☐3(☐4☐)))\n",
            "(3, True)\n"
          ]
        }
      ],
      "source": [
        "a1=Arbol(Nodoi(Nodoi(Nodoe(),1,Nodoe()),\n",
        "            2,\n",
        "            Nodoi(Nodoe(),3,Nodoi(Nodoe(),4,Nodoe()))))\n",
        "print(a1)\n",
        "print(a1.es_AVL())"
      ]
    },
    {
      "cell_type": "code",
      "execution_count": null,
      "metadata": {
        "collapsed": true,
        "id": "wIblWp0kuwe4",
        "outputId": "0eed6e2c-27a9-4efb-cf58-e1613d22a1b2",
        "colab": {
          "base_uri": "https://localhost:8080/"
        }
      },
      "outputs": [
        {
          "output_type": "stream",
          "name": "stdout",
          "text": [
            "((☐1☐)2(☐3(☐4(☐5☐))))\n",
            "(4, False)\n"
          ]
        }
      ],
      "source": [
        "a2=Arbol(Nodoi(Nodoi(Nodoe(),1,Nodoe()),\n",
        "            2,\n",
        "            Nodoi(Nodoe(),3,Nodoi(Nodoe(),4,Nodoi(Nodoe(),5,Nodoe())))))\n",
        "print(a2)\n",
        "print(a2.es_AVL())"
      ]
    },
    {
      "cell_type": "markdown",
      "metadata": {
        "id": "Rc_atTu6uwe4"
      },
      "source": [
        "---"
      ]
    }
  ],
  "metadata": {
    "kernelspec": {
      "display_name": "Python 3",
      "language": "python",
      "name": "python3"
    },
    "language_info": {
      "codemirror_mode": {
        "name": "ipython",
        "version": 3
      },
      "file_extension": ".py",
      "mimetype": "text/x-python",
      "name": "python",
      "nbconvert_exporter": "python",
      "pygments_lexer": "ipython3",
      "version": "3.6.3"
    },
    "colab": {
      "provenance": [],
      "include_colab_link": true
    }
  },
  "nbformat": 4,
  "nbformat_minor": 0
}