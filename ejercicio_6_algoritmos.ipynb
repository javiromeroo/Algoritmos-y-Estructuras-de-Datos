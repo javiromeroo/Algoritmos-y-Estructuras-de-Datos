{
  "cells": [
    {
      "cell_type": "markdown",
      "metadata": {
        "id": "view-in-github",
        "colab_type": "text"
      },
      "source": [
        "<a href=\"https://colab.research.google.com/github/javiromeroo/Algoritmos-y-Estructuras-de-Datos/blob/main/ejercicio_6_algoritmos.ipynb\" target=\"_parent\"><img src=\"https://colab.research.google.com/assets/colab-badge.svg\" alt=\"Open In Colab\"/></a>"
      ]
    },
    {
      "cell_type": "markdown",
      "source": [
        "Alumna: Javiera Romero Orrego 21166885-7"
      ],
      "metadata": {
        "id": "bV96orpEnTcY"
      }
    },
    {
      "cell_type": "markdown",
      "metadata": {
        "id": "_WaNKCSqnMdV"
      },
      "source": [
        "### Ejercicio 4.5\n",
        "\n",
        "Suponga que los campos ``info`` de los nodos externos de un árbol contienen solo números y escriba una función que pueda invocarse como ``formula.evaluar()``, que al ser ejecutada entregue el valor numérico  de la fórmula representada por el árbol. Modifique a continuación la definición de las clases ``Arbol``, ``Nodoi`` y ``Nodoe`` para que incluyan la nueva función ``evaluar()``. Note que tiene que implementar la función ``evaluar()`` en las tres clases."
      ]
    },
    {
      "cell_type": "code",
      "execution_count": null,
      "metadata": {
        "id": "GYewbapYnMdV"
      },
      "outputs": [],
      "source": [
        "class Nodoi:\n",
        "    def __init__(self, izq, info, der):\n",
        "        self.izq=izq\n",
        "        self.info=info\n",
        "        self.der=der\n",
        "    def evaluar(self): #aca segun el tipo de operador que tenga el nodo, calculamos la operacion del nodo de la izq con el de la derecha, si el nodo no tenia un operador no retonarmos nada\n",
        "      if self.info == \"+\":\n",
        "        return self.izq.evaluar() + self.der.evaluar()\n",
        "      elif self.info == \"*\":\n",
        "        return self.izq.evaluar() * self.der.evaluar()\n",
        "      elif self.info == \"-\":\n",
        "        return self.izq.evaluar() - self.der.evaluar()\n",
        "      elif self.info == \"/\":\n",
        "        return self.izq.evaluar() / self.der.evaluar()\n",
        "      elif self.info == \"^\":\n",
        "        return self.izq.evaluar() ** self.der.evaluar()\n",
        "      return None\n",
        "\n",
        "class Nodoe: #aca nos aseguramos de que la info del nodo sea un numero entero o un float para que no falle con alguna division no entera, si cumple entonces retornamos la info\n",
        "    def __init__(self, info=\"\"):\n",
        "        self.info=info\n",
        "    def evaluar(self):\n",
        "      assert type(self.info) == int or type(self.info) == float\n",
        "      return self.info\n",
        "\n",
        "class Arbol: #inicializamos la funcion evaluar con la raiz del arbol\n",
        "    def __init__(self,raiz=Nodoe()):\n",
        "        self.raiz=raiz\n",
        "    def evaluar(self):\n",
        "       return self.raiz.evaluar()"
      ]
    },
    {
      "cell_type": "markdown",
      "metadata": {
        "id": "tbhK6K5UnMdV"
      },
      "source": [
        "Pruébela a continuación:"
      ]
    },
    {
      "cell_type": "code",
      "execution_count": null,
      "metadata": {
        "id": "dUckSloInMdV",
        "colab": {
          "base_uri": "https://localhost:8080/"
        },
        "outputId": "2cffebf5-939f-49e9-9a1e-dca049debe71"
      },
      "outputs": [
        {
          "output_type": "stream",
          "name": "stdout",
          "text": [
            "35.0\n"
          ]
        }
      ],
      "source": [
        "formula= Arbol(\n",
        "            Nodoi(\n",
        "                Nodoi(Nodoe(5),\"+\",Nodoe(2)),\n",
        "                \"*\",\n",
        "                Nodoi(\n",
        "                    Nodoe(8),\n",
        "                    \"-\",\n",
        "                    Nodoi(Nodoe(9),\"/\",Nodoe(3))\n",
        "                )\n",
        "            )\n",
        "        )\n",
        "print(formula.evaluar())"
      ]
    }
  ],
  "metadata": {
    "kernelspec": {
      "display_name": "Python 3",
      "language": "python",
      "name": "python3"
    },
    "language_info": {
      "codemirror_mode": {
        "name": "ipython",
        "version": 3
      },
      "file_extension": ".py",
      "mimetype": "text/x-python",
      "name": "python",
      "nbconvert_exporter": "python",
      "pygments_lexer": "ipython3",
      "version": "3.6.9"
    },
    "colab": {
      "provenance": [],
      "include_colab_link": true
    }
  },
  "nbformat": 4,
  "nbformat_minor": 0
}