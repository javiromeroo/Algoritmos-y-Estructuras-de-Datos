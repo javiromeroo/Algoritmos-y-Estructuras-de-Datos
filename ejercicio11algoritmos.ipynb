{
  "cells": [
    {
      "cell_type": "markdown",
      "metadata": {
        "id": "view-in-github",
        "colab_type": "text"
      },
      "source": [
        "<a href=\"https://colab.research.google.com/github/javiromeroo/Algoritmos-y-Estructuras-de-Datos/blob/main/ejercicio11algoritmos.ipynb\" target=\"_parent\"><img src=\"https://colab.research.google.com/assets/colab-badge.svg\" alt=\"Open In Colab\"/></a>"
      ]
    },
    {
      "cell_type": "markdown",
      "source": [
        "#Alumna: Javiera Romero Orrego 21166885-7"
      ],
      "metadata": {
        "id": "qy0n2OdV1dnA"
      }
    },
    {
      "cell_type": "markdown",
      "metadata": {
        "id": "KyLU1Xncy77S"
      },
      "source": [
        "### Ejercicio 6.4 (Inserciones en una tabla de hashing con Linear Probing)\n",
        "\n",
        "Suponga que se tiene una tabla de hashing con Linear Probing, de tamaño 10, inicialmente vacía, con la función de hashing $h(x) = x \\bmod 10$ (por ejemplo, $h(64)=4$). Muestre en la siguiente tabla el resultado de insertar (a mano) la siguiente secuencia de llaves:\n",
        "\n",
        "```\n",
        "34, 59, 45, 27, 14, 22, 75, 25\n",
        "```"
      ]
    },
    {
      "cell_type": "markdown",
      "metadata": {
        "id": "XUwROVVty77S"
      },
      "source": [
        "![EjercicioLinearProbing](https://github.com/ivansipiran/AED-Apuntes/blob/main/recursos/EjercicioLinearProbing.png?raw=1)\n",
        "\n",
        "Utilizaremos la siguiente función para ver si su respuesta está correcta:"
      ]
    },
    {
      "cell_type": "code",
      "execution_count": null,
      "metadata": {
        "collapsed": true,
        "id": "YUmK_6FAy77S"
      },
      "outputs": [],
      "source": [
        "def chequea_tabla(lista):\n",
        "    h=0\n",
        "    for x in lista:\n",
        "        h = (h*100+x) % 100000007\n",
        "    print(\"OK\" if h==60375958 else \"Error\")"
      ]
    },
    {
      "cell_type": "markdown",
      "metadata": {
        "id": "tDCO8f4Sy77S"
      },
      "source": [
        "En el siguiente recuadro reemplace la lista de ceros por la lista de los elementos resultantes en la tabla. Si un casillero queda vacío, escriba un cero."
      ]
    },
    {
      "cell_type": "code",
      "execution_count": null,
      "metadata": {
        "collapsed": true,
        "id": "JfjsPJrzy77S",
        "colab": {
          "base_uri": "https://localhost:8080/"
        },
        "outputId": "d74bef17-b32e-40e4-f266-d79433cc15b7"
      },
      "outputs": [
        {
          "output_type": "stream",
          "name": "stdout",
          "text": [
            "OK\n"
          ]
        }
      ],
      "source": [
        "chequea_tabla([25,0,22,0,34,45,14,27,75,59])"
      ]
    },
    {
      "cell_type": "markdown",
      "metadata": {
        "id": "xF4xvsMry77S"
      },
      "source": [
        "---"
      ]
    }
  ],
  "metadata": {
    "kernelspec": {
      "display_name": "Python 3",
      "language": "python",
      "name": "python3"
    },
    "language_info": {
      "codemirror_mode": {
        "name": "ipython",
        "version": 3
      },
      "file_extension": ".py",
      "mimetype": "text/x-python",
      "name": "python",
      "nbconvert_exporter": "python",
      "pygments_lexer": "ipython3",
      "version": "3.6.3"
    },
    "colab": {
      "provenance": [],
      "include_colab_link": true
    }
  },
  "nbformat": 4,
  "nbformat_minor": 0
}