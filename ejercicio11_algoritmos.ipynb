{
  "nbformat": 4,
  "nbformat_minor": 0,
  "metadata": {
    "kernelspec": {
      "display_name": "Python 3",
      "language": "python",
      "name": "python3"
    },
    "language_info": {
      "codemirror_mode": {
        "name": "ipython",
        "version": 3
      },
      "file_extension": ".py",
      "mimetype": "text/x-python",
      "name": "python",
      "nbconvert_exporter": "python",
      "pygments_lexer": "ipython3",
      "version": "3.6.9"
    },
    "colab": {
      "provenance": [],
      "include_colab_link": true
    }
  },
  "cells": [
    {
      "cell_type": "markdown",
      "metadata": {
        "id": "view-in-github",
        "colab_type": "text"
      },
      "source": [
        "<a href=\"https://colab.research.google.com/github/javiromeroo/Algoritmos-y-Estructuras-de-Datos/blob/main/ejercicio11_algoritmos.ipynb\" target=\"_parent\"><img src=\"https://colab.research.google.com/assets/colab-badge.svg\" alt=\"Open In Colab\"/></a>"
      ]
    },
    {
      "cell_type": "markdown",
      "source": [
        "#Alumna: Javiera Romero Orrego 21166885-7"
      ],
      "metadata": {
        "id": "rttmr48KEIxH"
      }
    },
    {
      "cell_type": "markdown",
      "metadata": {
        "id": "WwgOL2wJPzRu"
      },
      "source": [
        "### Ejercicio 7.2 (Radix Sort)\n",
        "\n",
        "Ordene el conjunto\n",
        "\n",
        "```\n",
        "    73895\n",
        "    93754\n",
        "    82149\n",
        "    99046\n",
        "    14853\n",
        "    94171\n",
        "    54963\n",
        "    70471\n",
        "    80564\n",
        "    66496\n",
        "```\n",
        "\n",
        "usando Radix Sort. Muestre el estado del conjunto después cada pasada (una pasada consiste en la separación en grupos de acuerdo a los dígitos presentes en la columna que se está procesando, seguida de la concatenación de los grupos resultantes). Recuerde que las columnas se procesan de derecha a izquierda y que a igualdad de valores, se debe preservar el orden original.\n",
        "\n",
        "Para entregar su solución y verificar que esté correcta, sustituya los ceros por la información correcta en el siguiente código. Para ayudarle a empezar, se entrega el resultado después de la primera pasada."
      ]
    },
    {
      "cell_type": "code",
      "source": [
        "import numpy as np\n",
        "\n",
        "# Verifica que la lista 'a' esté ordenada después de haber efectuado 'k' pasadas\n",
        "# Se muestran solo los k dígitos de más a la derecha de cada número\n",
        "def verifica_orden(k,a):\n",
        "  b=[x%(10**k) for x in a]\n",
        "  print(b)\n",
        "  print(\"Ordenado\" if np.all([b[i]<=b[i+1] for i in range(0,len(b) - 1)]) else \"Desordenado\")"
      ],
      "metadata": {
        "id": "Fm8nnPikHMBE"
      },
      "execution_count": null,
      "outputs": []
    },
    {
      "cell_type": "code",
      "source": [
        "verifica_orden(1,[94171,70471,14853,54963,93754,80564,73895,99046,66496,82149])"
      ],
      "metadata": {
        "colab": {
          "base_uri": "https://localhost:8080/"
        },
        "id": "NRdJN-0qLx18",
        "outputId": "19b3ea9f-d2f0-4171-f624-fcc72769e725"
      },
      "execution_count": null,
      "outputs": [
        {
          "output_type": "stream",
          "name": "stdout",
          "text": [
            "[1, 1, 3, 3, 4, 4, 5, 6, 6, 9]\n",
            "Ordenado\n"
          ]
        }
      ]
    },
    {
      "cell_type": "code",
      "source": [
        "verifica_orden(2,[99046,82149,14853,93754,54963,80564,94171,70471,73895,66496])"
      ],
      "metadata": {
        "colab": {
          "base_uri": "https://localhost:8080/"
        },
        "id": "dm1A7IZJL-1y",
        "outputId": "611dfcb5-3934-4df9-a2af-c4d01a92f546"
      },
      "execution_count": null,
      "outputs": [
        {
          "output_type": "stream",
          "name": "stdout",
          "text": [
            "[46, 49, 53, 54, 63, 64, 71, 71, 95, 96]\n",
            "Ordenado\n"
          ]
        }
      ]
    },
    {
      "cell_type": "code",
      "source": [
        "verifica_orden(3,[99046,82149,94171,70471,66496,80564,93754,14853,73895,54963])"
      ],
      "metadata": {
        "colab": {
          "base_uri": "https://localhost:8080/"
        },
        "id": "i4dyJR7VNP8u",
        "outputId": "50a9bc2b-1863-4778-862a-d7c049416e9a"
      },
      "execution_count": null,
      "outputs": [
        {
          "output_type": "stream",
          "name": "stdout",
          "text": [
            "[46, 149, 171, 471, 496, 564, 754, 853, 895, 963]\n",
            "Ordenado\n"
          ]
        }
      ]
    },
    {
      "cell_type": "code",
      "source": [
        "verifica_orden(4,[70471,80564,82149,93754,73895,94171,14853,54963,66496,99046])"
      ],
      "metadata": {
        "colab": {
          "base_uri": "https://localhost:8080/"
        },
        "id": "ceW8d6NePfqO",
        "outputId": "469c7418-54ed-4935-d5f6-f1c11f406868"
      },
      "execution_count": null,
      "outputs": [
        {
          "output_type": "stream",
          "name": "stdout",
          "text": [
            "[471, 564, 2149, 3754, 3895, 4171, 4853, 4963, 6496, 9046]\n",
            "Ordenado\n"
          ]
        }
      ]
    },
    {
      "cell_type": "code",
      "source": [
        "verifica_orden(5,[14853,54963,66496,70471,73895,80564,82149,93754,94171,99046])"
      ],
      "metadata": {
        "colab": {
          "base_uri": "https://localhost:8080/"
        },
        "id": "BAh-gTd5PoFT",
        "outputId": "1376964e-1010-4b59-8419-2e0bc05b4a05"
      },
      "execution_count": null,
      "outputs": [
        {
          "output_type": "stream",
          "name": "stdout",
          "text": [
            "[14853, 54963, 66496, 70471, 73895, 80564, 82149, 93754, 94171, 99046]\n",
            "Ordenado\n"
          ]
        }
      ]
    },
    {
      "cell_type": "markdown",
      "metadata": {
        "id": "nJaIDfJWXcS6"
      },
      "source": [
        "---"
      ]
    }
  ]
}