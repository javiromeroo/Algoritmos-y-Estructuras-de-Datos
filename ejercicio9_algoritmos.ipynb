{
  "cells": [
    {
      "cell_type": "markdown",
      "metadata": {
        "id": "view-in-github",
        "colab_type": "text"
      },
      "source": [
        "<a href=\"https://colab.research.google.com/github/javiromeroo/Algoritmos-y-Estructuras-de-Datos/blob/main/ejercicio9_algoritmos.ipynb\" target=\"_parent\"><img src=\"https://colab.research.google.com/assets/colab-badge.svg\" alt=\"Open In Colab\"/></a>"
      ]
    },
    {
      "cell_type": "markdown",
      "source": [
        "#Alumna: Javiera Romero Orrego 21166885-7"
      ],
      "metadata": {
        "id": "AjRPc-8fGc7S"
      }
    },
    {
      "cell_type": "markdown",
      "metadata": {
        "id": "Ff3t7wwhCtUz"
      },
      "source": [
        "### Ejercicio 6.3 : Búsqueda en árboles 2-3"
      ]
    },
    {
      "cell_type": "markdown",
      "metadata": {
        "id": "tlpB7XQQCtUz"
      },
      "source": [
        "El objetivo de esta tarea es que usted implemente la búsqueda (\"search\") en árboles 2-3 (sólo la búsqueda, no la inserción).\n",
        "Para ello complete el código que implementa la función ``search`` en tres tipos de nodos:``Nodo2``, que almacena un nodo que tiene 2 hijos, ``Nodo3``, que tiene 3 y ``Nodoe`` que implementa un nodo externo. Además, la función ``search`` de la clase ``Arbol23`` está dada en el enunciado. En todos los casos, la función debe retornar un puntero al nodo que contiene la llave buscada en caso de ser exitosa, o ``None`` si es infructuosa. Usted puede decidir si usa un enfoque recursivo o no para implementarlo.\n",
        "\n",
        "En varias partes se ha rellenado con código provisorio, para que compile. Usted debe reemplazar y completar todo lo que sea necesario para que todo funcione.\n",
        "\n",
        "Para inspirarse puede ver operación de búsqueda ``search`` en un árbol binario en https://colab.research.google.com/github/ivansipiran/AED-Apuntes/blob/main/06_Diccionarios.ipynb#scrollTo=KTlzPSiLGRgy"
      ]
    },
    {
      "cell_type": "code",
      "execution_count": null,
      "metadata": {
        "id": "m8-LPu-ECtUz"
      },
      "outputs": [],
      "source": [
        "class Nodo2:\n",
        "    def __init__(self, izq, info, der):\n",
        "        self.izq=izq\n",
        "        self.info=info\n",
        "        self.der=der\n",
        "\n",
        "    def string(self):\n",
        "      return \"Nodo2(\"+str(self.info)+\")\"\n",
        "\n",
        "    #Implementa esta función\n",
        "    #este funciona como el de abb, segun la comparacion del valor y la info nos vamos a la izquierda o derecha o retornamos el valor si lo encontramos\n",
        "    def search(self,x):\n",
        "      if x==self.info:\n",
        "        return self\n",
        "      if x<self.info:\n",
        "        return self.izq.search(x)\n",
        "      else:\n",
        "        return self.der.search(x)\n",
        "\n",
        "class Nodo3:\n",
        "    def __init__(self, izq, info1, med, info2, der):\n",
        "        self.izq=izq\n",
        "        self.info1=info1\n",
        "        self.med=med\n",
        "        self.info2=info2\n",
        "        self.der=der\n",
        "\n",
        "    def string(self):\n",
        "      return \"Nodo3(\"+str(self.info1)+\",\"+str(self.info2)+\")\"\n",
        "\n",
        "    #Implementa esta función\n",
        "    #este funciona parecido al abb solo q le agregamos la opcion del nodo del medio, segun como se compare el valor a la info del nodo vemos si nos\n",
        "    #vamos a la derecha izquierda medio o si encontramos el valor retornamos la info\n",
        "\n",
        "    def search(self,x):\n",
        "      if x==self.info1 or x== self.info2:\n",
        "         return self\n",
        "      if x < self.info1 and x < self.info2:\n",
        "        return self.izq.search(x)\n",
        "      if x < self.info2 and self.info1 < x:\n",
        "        return self.med.search(x)\n",
        "      if self.info1 < x and self.info2<x:\n",
        "        return self.der.search(x)\n",
        "\n",
        "class Nodoe:\n",
        "    def __init__(self):\n",
        "        pass\n",
        "\n",
        "    #Implementa esta función\n",
        "    #si estamos en el nodo exterior no lo encontramos\n",
        "    def search(self,x):\n",
        "        return None\n",
        "\n",
        "    def __str__(self):\n",
        "      return \"☐\"\n",
        "\n",
        "class Arbol23:\n",
        "    def __init__(self,raiz=Nodoe()):\n",
        "        self.raiz=raiz\n",
        "\n",
        "    def search(self,x):\n",
        "        return self.raiz.search(x)"
      ]
    },
    {
      "cell_type": "markdown",
      "metadata": {
        "id": "ioYDvalRCtU0"
      },
      "source": [
        "Para probar este código, vamos a construir \"a mano\" el árbol 2-3 que aparece en el apunte, y luego hay que ejecutar las búsquedas que se indican, para probar que su solución esté correcta."
      ]
    },
    {
      "cell_type": "code",
      "execution_count": null,
      "metadata": {
        "id": "MT4mV3j_CtU0"
      },
      "outputs": [],
      "source": [
        "a=Nodo3(Nodo2(Nodoe(),10,Nodoe()),25,Nodo3(Nodoe(),32,Nodoe(),48,Nodoe()),57,Nodo2(Nodoe(),74,Nodoe()))"
      ]
    },
    {
      "cell_type": "markdown",
      "metadata": {
        "id": "2Hq377SeCtU0"
      },
      "source": [
        "### Búsqueda de valores en un Árbol 2-3"
      ]
    },
    {
      "cell_type": "code",
      "execution_count": null,
      "metadata": {
        "id": "7Rggjz7UCtU0",
        "colab": {
          "base_uri": "https://localhost:8080/"
        },
        "outputId": "78aa81f2-1628-4765-8655-f19995e30039"
      },
      "outputs": [
        {
          "output_type": "stream",
          "name": "stdout",
          "text": [
            "pasó los tests\n"
          ]
        }
      ],
      "source": [
        "busqueda1=a.search(25)\n",
        "assert busqueda1.string() == \"Nodo3(25,57)\"\n",
        "\n",
        "busqueda2=a.search(74)\n",
        "assert busqueda2.string() == \"Nodo2(74)\"\n",
        "\n",
        "\n",
        "busqueda3=a.search(7)\n",
        "assert busqueda3 == None\n",
        "\n",
        "print(\"pasó los tests\")"
      ]
    }
  ],
  "metadata": {
    "kernelspec": {
      "display_name": "Python 3",
      "language": "python",
      "name": "python3"
    },
    "language_info": {
      "codemirror_mode": {
        "name": "ipython",
        "version": 3
      },
      "file_extension": ".py",
      "mimetype": "text/x-python",
      "name": "python",
      "nbconvert_exporter": "python",
      "pygments_lexer": "ipython3",
      "version": "3.6.3"
    },
    "colab": {
      "provenance": [],
      "include_colab_link": true
    }
  },
  "nbformat": 4,
  "nbformat_minor": 0
}